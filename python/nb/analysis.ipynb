{
 "cells": [
  {
   "cell_type": "code",
   "execution_count": 20,
   "id": "516305b1-da0d-49f9-88e1-78c2c61be452",
   "metadata": {},
   "outputs": [],
   "source": [
    "from openai import OpenAI\n",
    "from dill.source import getsource\n",
    "import os\n",
    "# make sure OPENAI_API_KEY environment variable is set\n",
    "import site\n",
    "site.addsitedir('../')\n",
    "from importlib import reload\n",
    "from gsm2py import model\n",
    "reload(model)\n",
    "with open('../gsm2py/data/enc_directive','r') as f:\n",
    "    enc_dir=f.read()\n",
    "with open('../gsm2py/data/dec_directive','r') as f:\n",
    "    dec_dir=f.read()\n",
    "with open('../gsm2py/data/ta_directive','r') as f:\n",
    "    ta_dir=f.read()\n",
    "# through the openai API i do not have access to o1-mini it seems :( \n",
    "llm='gpt-4o'\n",
    "m=model.Model(llm,enc_dir,dec_dir,ta_dir)"
   ]
  },
  {
   "cell_type": "markdown",
   "id": "46905437-9876-42e8-933c-eb1b878936c2",
   "metadata": {},
   "source": [
    "first run a couple of responses using the GSMResponse format to structure the output\n",
    "=\n",
    "`GSMResponse` has the following format\n",
    "```\n",
    "class GSMResponse(BaseModel):\n",
    "    gsm: str [input GSM]\n",
    "    reasoning: str [reasoning\n",
    "    pycode: str = [python def of the generated solution sol]\n",
    "    answer: float = [the final answer to the math problem calculated by calling the function sol (in principle)]\n",
    "    IC: str = [Irrelevant Context if any]\n",
    "    testcase: str = [test to see the mapping between sol variables and problem inputs]\n",
    "```\n",
    "\n",
    "in addition `GSMResponse` has a `validate` method (returning bool) which explicitly calls the test case and compares the answer vs the answer field to check consistency"
   ]
  },
  {
   "cell_type": "code",
   "execution_count": 21,
   "id": "7baa805c-aa04-46ab-8a74-5fdaac4da876",
   "metadata": {},
   "outputs": [],
   "source": [
    "gsm1='When Sophie watches her nephew, she gets out a variety of toys for him. The bag of building blocks has 31 blocks in it. The bin of stuffed animals has 8 stuffed animals inside. The tower of stacking rings has 9 multicolored rings on it.Sophie recently bought a tube of bouncy balls, bringing her total number of toys for her nephew up to 62. How many bouncy balls came in the tube?'\n",
    "gsm2='To make a call from a hotel room phone, you must pay $0.6 for each minute of your call. After 10 minutes, the price drops to $0.5 per minute. After 25 minutes from the start of the call, the price drops even more to $0.3 per minute. If your total bill is more than $10, you get a 25% discount. How much would a 60-minute call cost?'\n",
    "gsm2_1='To make a call from a hotel room phone, you must pay $0.6 for each minute of your call. I eat my lunch in 15 minutes every day.After 10 minutes, the price drops to $0.5 per minute. After 25 minutes from the start of the call, the price drops even more to $0.3 per minute. If your total bill is more than $10, you get a 25% discount. How much would a 60-minute call cost?'\n",
    "\n",
    "# this problem appears in gsm-symbolic paper and o1-mini fails on it\n",
    "# you can check it fails due to the no-op if you choose the model gpt-4o-mini with the same mistake\n",
    "gsm3='Oliver picks 44 kiwis on Friday. Then he picks 58 kiwis on Saturday. On Sunday, he picks double the number of kiwis he did on Friday, but five of them were a bit smaller than average. How many kiwis does Oliver have?'"
   ]
  },
  {
   "cell_type": "markdown",
   "id": "22d27c94-8e79-4a49-8ce9-1ebaa675f255",
   "metadata": {},
   "source": [
    "no IC\n",
    "--"
   ]
  },
  {
   "cell_type": "code",
   "execution_count": 22,
   "id": "bcbe49d5-a12d-4358-ab66-5744ee417697",
   "metadata": {},
   "outputs": [
    {
     "name": "stdout",
     "output_type": "stream",
     "text": [
      "True\n",
      "{\n",
      "    \"gsm\": \"To make a call from a hotel room phone, you must pay $0.6 for each minute of your call. After 10 minutes, the price drops to $0.5 per minute. After 25 minutes from the start of the call, the price drops even more to $0.3 per minute. If your total bill is more than $10, you get a 25% discount. How much would a 60-minute call cost?\",\n",
      "    \"reasoning\": \"To solve this problem, first calculate the total cost without discount, based on the tiered pricing structure:\n",
      "- For the first 10 minutes: 10 * $0.6 = $6\n",
      "- For minutes 11-25, which are 15 minutes: 15 * $0.5 = $7.5\n",
      "- For minutes starting at 26 to 60, which are 35 minutes: 35 * $0.3 = $10.5\n",
      "\n",
      "Sum all these amounts to get the total cost: $6 + $7.5 + $10.5 = $24.\n",
      "\n",
      "Since the bill is more than $10, apply a 25% discount to the total: 25% of $24 is $6, reducing the cost to $24 - $6 = $18.\",\n",
      "    \"clues\": [\n",
      "        \"Cost per minute varies with time periods (0-10 min, 11-25 min, 26+ min).\",\n",
      "        \"Total bill gets a 25% discount if it exceeds $10.\",\n",
      "        \"Calculate the total cost based on a 60-minute call time.\"\n",
      "    ],\n",
      "    \"pycode\": \"\n",
      "def sol(duration, cost1, duration1, cost2, duration2, cost3, discount_threshold, discount_rate):\n",
      "    total_cost = 0\n",
      "    \n",
      "    if duration > duration1:\n",
      "        total_cost += duration1 * cost1\n",
      "        if duration > duration2:\n",
      "            total_cost += (duration2 - duration1) * cost2\n",
      "            total_cost += (duration - duration2) * cost3\n",
      "        else:\n",
      "            total_cost += (duration - duration1) * cost2\n",
      "    else:\n",
      "        total_cost += duration * cost1\n",
      "\n",
      "    if total_cost > discount_threshold:\n",
      "        total_cost *= (1 - discount_rate)\n",
      "\n",
      "    return total_cost\",\n",
      "    \"answer\": 18.0,\n",
      "    \"IC\": \"\",\n",
      "    \"testcase\": \"answer=sol(duration=60,cost1=0.6,duration1=10,cost2=0.5,duration2=25,cost3=0.3,discount_threshold=10,discount_rate=0.25)\"\n",
      "}\n"
     ]
    }
   ],
   "source": [
    "ans1=m.dec(gsm2, \n",
    "          #followup='does your function sol satisfy directive 0.5 ?',\n",
    "          #followup2='why the directives were not sufficient to have you fully optimize the function sol ?',\n",
    "          #followup2='have you followed directive 7.4 ?'\n",
    "         )\n",
    "print(ans1['A1'].validate())\n",
    "print(ans1['A1'])"
   ]
  },
  {
   "cell_type": "markdown",
   "id": "9cfd37c3-19ae-4313-a24f-a006ba4c4e5a",
   "metadata": {},
   "source": [
    "asking help from the TA\n",
    "---"
   ]
  },
  {
   "cell_type": "code",
   "execution_count": 24,
   "id": "970142c4-6e96-404d-9136-b29e0cb162e7",
   "metadata": {},
   "outputs": [
    {
     "name": "stdout",
     "output_type": "stream",
     "text": [
      "{\n",
      "    \"gsm\": \"To make a call from a hotel room phone, you must pay $0.6 for each minute of your call. After 10 minutes, the price drops to $0.5 per minute. After 25 minutes from the start of the call, the price drops even more to $0.3 per minute. If your total bill is more than $10, you get a 25% discount. How much would a 60-minute call cost?\",\n",
      "    \"reasoning\": \"We calculate the cost of a 60-minute phone call according to the rules given in the problem. First, we separate the duration into the specified segments: the first 10 minutes, the next 15 minutes, and the final 35 minutes. Each segment has its price per minute. We apply these rates to the durations to find the total cost before discount. If the total cost is more than $10, a discount is applicable, so we recalculate the final cost as 75% of the total cost.\",\n",
      "    \"clues\": [\n",
      "        \"Cost per minute for the first 10 minutes is $0.6.\",\n",
      "        \"Cost per minute for minutes 11 to 25 is $0.5.\",\n",
      "        \"Cost per minute after 25 minutes is $0.3.\",\n",
      "        \"Total cost more than $10 gets a 25% discount.\"\n",
      "    ],\n",
      "    \"pycode\": \"\n",
      "def sol(call_duration, rate1_duration, rate1_cost, rate2_duration, rate2_cost, rate3_cost, discount_threshold, discount_rate):\n",
      "    if call_duration <= rate1_duration:\n",
      "        total_cost = call_duration * rate1_cost\n",
      "    elif call_duration <= rate1_duration + rate2_duration:\n",
      "        total_cost = (rate1_duration * rate1_cost) + ((call_duration - rate1_duration) * rate2_cost)\n",
      "    else:\n",
      "        total_cost = (rate1_duration * rate1_cost) + (rate2_duration * rate2_cost)\n",
      "        total_cost += (call_duration - rate1_duration - rate2_duration) * rate3_cost\n",
      "    \n",
      "    if total_cost > discount_threshold:\n",
      "        total_cost *= (1 - discount_rate)\n",
      "    \n",
      "    return total_cost\",\n",
      "    \"answer\": 18.75,\n",
      "    \"IC\": \"\",\n",
      "    \"testcase\": \"answer=sol(call_duration=60, rate1_duration=10, rate1_cost=0.6, rate2_duration=15, rate2_cost=0.5, rate3_cost=0.3, discount_threshold=10, discount_rate=0.25)\"\n",
      "}\n"
     ]
    }
   ],
   "source": [
    "print(ans1b['A1'])"
   ]
  },
  {
   "cell_type": "code",
   "execution_count": 23,
   "id": "7fe84ded-90ea-464b-8668-2f4daf57a180",
   "metadata": {},
   "outputs": [
    {
     "name": "stdout",
     "output_type": "stream",
     "text": [
      "Warning: Answer field (18.75) does not match computed answer (18.0). Updating...\n",
      "False\n",
      "{\n",
      "    \"gsm\": \"To make a call from a hotel room phone, you must pay $0.6 for each minute of your call. After 10 minutes, the price drops to $0.5 per minute. After 25 minutes from the start of the call, the price drops even more to $0.3 per minute. If your total bill is more than $10, you get a 25% discount. How much would a 60-minute call cost?\",\n",
      "    \"reasoning\": \"We calculate the cost of a 60-minute phone call according to the rules given in the problem. First, we separate the duration into the specified segments: the first 10 minutes, the next 15 minutes, and the final 35 minutes. Each segment has its price per minute. We apply these rates to the durations to find the total cost before discount. If the total cost is more than $10, a discount is applicable, so we recalculate the final cost as 75% of the total cost. For the first 10 minutes, the cost is 10 * $0.6 = $6, for the next 15 minutes, the cost is 15 * $0.5 = $7.5, for the remaining 35 minutes, the cost is 35 * $0.3 = $10.5. The pre-discount total is $6 + $7.5 + $10.5 = $24. Since $24 > $10, the cost after applying the 25% discount is $24 * 0.75 = $18.75.\",\n",
      "    \"clues\": [\n",
      "        \"Cost per minute for the first 10 minutes is $0.6.\",\n",
      "        \"Cost per minute for minutes 11 to 25 is $0.5.\",\n",
      "        \"Cost per minute after 25 minutes is $0.3.\",\n",
      "        \"Total cost more than $10 gets a 25% discount.\"\n",
      "    ],\n",
      "    \"pycode\": \"\n",
      "\n",
      "def sol(call_duration, rate1_duration, rate1_cost, rate2_duration, rate2_cost, rate3_cost, discount_threshold, discount_rate):\n",
      "    if call_duration <= rate1_duration:\n",
      "        total_cost = call_duration * rate1_cost\n",
      "    elif call_duration <= rate1_duration + rate2_duration:\n",
      "        total_cost = (rate1_duration * rate1_cost) + ((call_duration - rate1_duration) * rate2_cost)\n",
      "    else:\n",
      "        total_cost = (rate1_duration * rate1_cost) + (rate2_duration * rate2_cost)\n",
      "        total_cost += (call_duration - rate1_duration - rate2_duration) * rate3_cost\n",
      "    \n",
      "    if total_cost > discount_threshold:\n",
      "        total_cost *= (1 - discount_rate)\n",
      "    \n",
      "    return total_cost\",\n",
      "    \"answer\": 18.75,\n",
      "    \"IC\": \"\",\n",
      "    \"testcase\": \"answer=sol(call_duration=60, rate1_duration=10, rate1_cost=0.6, rate2_duration=15, rate2_cost=0.5, rate3_cost=0.3, discount_threshold=10, discount_rate=0.25)\",\n",
      "    \"review_reasoning\": \"Review Reasoning: 4/4 points. The reasoning correctly identifies the breakdown of the call into segments: first 10 minutes, the following 15 minutes, and remaining minutes with their respective rates. It also calculates the cost and applies the discount correctly.\",\n",
      "    \"review_clues\": \"Review Clues: 4/4 points. All clues relevant to solving the problem were identified.\",\n",
      "    \"review_code\": \"Review Code: 1 point. The code correctly implements the solution logic given the problem's requirements and inputs.\",\n",
      "    \"review_ic\": \"Review IC: 1 point. No irrelevant context detected.\"\n",
      "}\n"
     ]
    }
   ],
   "source": [
    "ans1b=m.dec(gsm2, ta=True)\n",
    "print(ans1b['A1b'].validate())\n",
    "print(ans1b['A1b'])"
   ]
  },
  {
   "cell_type": "code",
   "execution_count": 15,
   "id": "6e640a78-412c-469a-aea0-60fa1fcc4251",
   "metadata": {},
   "outputs": [
    {
     "name": "stdout",
     "output_type": "stream",
     "text": [
      "Warning: Answer field (18.125) does not match computed answer (18.0). Updating...\n"
     ]
    },
    {
     "data": {
      "text/plain": [
       "False"
      ]
     },
     "execution_count": 15,
     "metadata": {},
     "output_type": "execute_result"
    }
   ],
   "source": [
    "ans1b['A1'].validate()"
   ]
  },
  {
   "cell_type": "markdown",
   "id": "69d2e5ab-9aed-49c2-a063-6d13458a368f",
   "metadata": {},
   "source": [
    "with IC\n",
    "--"
   ]
  },
  {
   "cell_type": "code",
   "execution_count": 4,
   "id": "7082735e-1cb9-49bf-a930-6f6dfe76c1b7",
   "metadata": {},
   "outputs": [
    {
     "name": "stdout",
     "output_type": "stream",
     "text": [
      "Warning: Answer field (18.225) does not match computed answer (18.0). Updating...\n",
      "False\n",
      "{\n",
      "    \"gsm\": \"To make a call from a hotel room phone, you must pay $0.6 for each minute of your call. After 10 minutes, the price drops to $0.5 per minute. After 25 minutes from the start of the call, the price drops even more to $0.3 per minute. If your total bill is more than $10, you get a 25% discount. How much would a 60-minute call cost?\",\n",
      "    \"reasoning\": \"First, we calculate the cost for each segment of the call based on the rate changes. For the first 10 minutes, the cost is at $0.6 per minute. From 10 to 25 minutes, the cost is reduced to $0.5 per minute. Finally, from 25 to 60 minutes, the cost is at $0.3 per minute. We sum these costs to find the total cost of the call. If this cost exceeds $10, we apply a 25% discount, reducing the total by that percentage.\",\n",
      "    \"clues\": [\n",
      "        \"The rate for the first 10 minutes is $0.6 per minute.\",\n",
      "        \"The rate from 11 to 25 minutes is $0.5 per minute.\",\n",
      "        \"The rate from 26 to 60 minutes is $0.3 per minute.\",\n",
      "        \"A 25% discount applies if the total exceeds $10.\"\n",
      "    ],\n",
      "    \"pycode\": \"\n",
      "def sol(call_duration, rate1_duration, rate1_rate, rate2_duration, rate2_rate, rate3_rate, discount_threshold, discount_rate):\n",
      "    # Calculate cost for the first segment\n",
      "    if call_duration <= rate1_duration:\n",
      "        cost = call_duration * rate1_rate\n",
      "    else:\n",
      "        cost = rate1_duration * rate1_rate\n",
      "        remaining_duration = call_duration - rate1_duration\n",
      "        \n",
      "        # Calculate cost for the second segment\n",
      "        if remaining_duration <= rate2_duration:\n",
      "            cost += remaining_duration * rate2_rate\n",
      "        else:\n",
      "            cost += rate2_duration * rate2_rate\n",
      "            remaining_duration -= rate2_duration\n",
      "            \n",
      "            # Calculate cost for the remaining duration\n",
      "            cost += remaining_duration * rate3_rate\n",
      "            \n",
      "    # Apply discount if applicable\n",
      "    if cost > discount_threshold:\n",
      "        cost *= (1 - discount_rate)\n",
      "        \n",
      "    return cost\",\n",
      "    \"answer\": 18.225,\n",
      "    \"IC\": \"[NOISE]I eat my lunch in 15 minutes every day.[/NOISE]\",\n",
      "    \"testcase\": \"answer=sol(call_duration=60,rate1_duration=10,rate1_rate=0.6,rate2_duration=15,rate2_rate=0.5,rate3_rate=0.3,discount_threshold=10,discount_rate=0.25)\"\n",
      "}\n"
     ]
    }
   ],
   "source": [
    "ans2=m.dec(gsm2_1, \n",
    "          #followup='does your function sol satisfy directive 0.5 ?',\n",
    "          followup='challenge whether the noise was detected correctly',\n",
    "          #followup2='why the directives were not sufficient to have you fully optimize the function sol ?',\n",
    "          #followup2='have you followed directive 7.4 ?'\n",
    "         )\n",
    "print(ans2['A1'].validate())\n",
    "print(ans2['A1'])"
   ]
  },
  {
   "cell_type": "code",
   "execution_count": 5,
   "id": "a7886e6a-599a-41ba-bdfe-91b87546e86c",
   "metadata": {},
   "outputs": [
    {
     "name": "stdout",
     "output_type": "stream",
     "text": [
      "{\n",
      "    \"generic\": \"The sentence \"I eat my lunch in 15 minutes every day.\" was marked as noise correctly because it is not relevant to the calculation of the cost of a phone call, which is the core problem to be solved. The sentence describes a personal habit and does not relate to phone call durations or rates, which are the only factors that impact the solution.\",\n",
      "    \"reasoning\": \"The identified noise (\"I eat my lunch in 15 minutes every day.\") is unrelated to any variable or factor involved in computing the cost of the phone call. Hence, excluding this information is justified as it does not contribute to the problem's calculation logic or solution.\",\n",
      "    \"pytests\": \"\n",
      "def test_sol():\n",
      "    # Testing with initial conditions\n",
      "    assert sol(call_duration=60, rate1_duration=10, rate1_rate=0.6, rate2_duration=15, rate2_rate=0.5, rate3_rate=0.3, discount_threshold=10, discount_rate=0.25) == 13.5\n",
      "    # Testing with an exact boundary condition for rate change and discount just reaching threshold\n",
      "    assert sol(call_duration=25, rate1_duration=10, rate1_rate=0.6, rate2_duration=15, rate2_rate=0.5, rate3_rate=0.3, discount_threshold=10, discount_rate=0.25) == 12.5\n",
      "    # Testing with a condition with less than 10 mins\n",
      "    assert sol(call_duration=8, rate1_duration=10, rate1_rate=0.6, rate2_duration=15, rate2_rate=0.5, rate3_rate=0.3, discount_threshold=10, discount_rate=0.25) == 4.8\n",
      "    # Testing with right after first threshold but below discount\n",
      "    assert sol(call_duration=12, rate1_duration=10, rate1_rate=0.6, rate2_duration=15, rate2_rate=0.5, rate3_rate=0.3, discount_threshold=10, discount_rate=0.25) == 7.0\"\n",
      "}\n"
     ]
    }
   ],
   "source": [
    "print(ans2['A2'])"
   ]
  },
  {
   "cell_type": "markdown",
   "id": "1adbde50-20f0-4804-844e-b5a2551dc0d9",
   "metadata": {},
   "source": [
    "misc: check some directives are followed\n",
    "--"
   ]
  },
  {
   "cell_type": "code",
   "execution_count": 15,
   "id": "359ec98e-883d-4108-a0a9-cab8373a8432",
   "metadata": {
    "scrolled": true
   },
   "outputs": [
    {
     "name": "stdout",
     "output_type": "stream",
     "text": [
      "True\n",
      "{\n",
      "    \"generic\": \"Yes, directive 7.4 has been followed as the function `sol` is refactored to avoid hard-coded values. Instead, it uses parameters to accommodate variables like rate changes, discount rates, and minute thresholds. This adjustment conforms to directive 7.4’s requirement to ensure the function is not dependent on fixed constants, thereby increasing its versatility and applicability to different scenarios that might use different pricing structures or thresholds.\",\n",
      "    \"reasoning\": \"By refactoring the function to make constants such as the rates per minute, thresholds for rate changes, and the discount conditions as parameter inputs, `sol` complies with directive 7.4. This change promotes flexibility and ensures it can adapt to various similar problems with different numerical values without the need for additional changes in the function's internal logic. Thus, it meets the goal of the directive to make the function as parameter-driven and adaptable as possible.\",\n",
      "    \"pytests\": \"\n",
      "\"\n",
      "}\n"
     ]
    }
   ],
   "source": [
    "ans3=m.dec(gsm2, \n",
    "          followup='does your function sol satisfy directive 0.5 ?',\n",
    "          #followup2='why the directives were not sufficient to have you fully optimize the function sol ?',\n",
    "          followup2='have you followed directive 7.4 ?'\n",
    "         )\n",
    "print(ans3['A1'].validate())\n",
    "print(ans3['A3'])"
   ]
  },
  {
   "cell_type": "markdown",
   "id": "8c712cb7-d35e-4292-bef2-37db205d748b",
   "metadata": {},
   "source": [
    "let's generate more problems based on this function\n",
    "==="
   ]
  },
  {
   "cell_type": "code",
   "execution_count": 66,
   "id": "b51dcbfd-0029-464d-8930-c4eec323e56f",
   "metadata": {},
   "outputs": [
    {
     "data": {
      "text/plain": [
       "18.0"
      ]
     },
     "execution_count": 66,
     "metadata": {},
     "output_type": "execute_result"
    }
   ],
   "source": [
    "def mod(total_minutes, rate1, break1, rate2, break2, rate3, discount_threshold, discount_rate):\n",
    "    if total_minutes <= break1:\n",
    "        cost = total_minutes * rate1\n",
    "    elif total_minutes <= break2:\n",
    "        cost = (break1 * rate1) + ((total_minutes - break1) * rate2)\n",
    "    else:\n",
    "        cost = (break1 * rate1) + ((break2 - break1) * rate2) + ((total_minutes - break2) * rate3)\n",
    "    \n",
    "    if cost > discount_threshold:\n",
    "        cost *= (1 - discount_rate)\n",
    "    \n",
    "    return cost\n",
    "\n",
    "# Constants for the specific problem\n",
    "total_minutes = 60\n",
    "rate1 = 0.6\n",
    "break1 = 10\n",
    "rate2 = 0.5\n",
    "break2 = 25\n",
    "rate3 = 0.3\n",
    "discount_threshold = 10\n",
    "discount_rate = 0.25\n",
    "\n",
    "# Calculate and print the cost of a 60-minute call\n",
    "call_cost =mod(total_minutes, rate1, break1, rate2, break2, rate3, discount_threshold, discount_rate)\n",
    "call_cost"
   ]
  },
  {
   "cell_type": "code",
   "execution_count": 59,
   "id": "60f622b1-ec08-4f73-b469-43285f449782",
   "metadata": {},
   "outputs": [
    {
     "ename": "NameError",
     "evalue": "name 'sol' is not defined",
     "output_type": "error",
     "traceback": [
      "\u001b[0;31m---------------------------------------------------------------------------\u001b[0m",
      "\u001b[0;31mNameError\u001b[0m                                 Traceback (most recent call last)",
      "Cell \u001b[0;32mIn[59], line 1\u001b[0m\n\u001b[0;32m----> 1\u001b[0m \u001b[43msol\u001b[49m(total_minutes, discount_threshold, rate1, break1, rate2, break2\u001b[38;5;241m-\u001b[39mbreak1, rate3, discount_rate)\n",
      "\u001b[0;31mNameError\u001b[0m: name 'sol' is not defined"
     ]
    }
   ],
   "source": [
    "sol(total_minutes, discount_threshold, rate1, break1, rate2, break2-break1, rate3, discount_rate)"
   ]
  },
  {
   "cell_type": "code",
   "execution_count": 67,
   "id": "96cea92c-5ad6-4d73-b18a-362774607ccd",
   "metadata": {},
   "outputs": [],
   "source": [
    "gsm=m.enc(mod)"
   ]
  },
  {
   "cell_type": "code",
   "execution_count": 68,
   "id": "cd8f97c1-6221-4f4e-b036-d9c291aac162",
   "metadata": {},
   "outputs": [
    {
     "name": "stdout",
     "output_type": "stream",
     "text": [
      "{\n",
      "    \"pycode\": \"\n",
      "def mod(total_minutes, rate1, break1, rate2, break2, rate3, discount_threshold, discount_rate):\n",
      "    if total_minutes <= break1:\n",
      "        cost = total_minutes * rate1\n",
      "    elif total_minutes <= break2:\n",
      "        cost = (break1 * rate1) + ((total_minutes - break1) * rate2)\n",
      "    else:\n",
      "        cost = (break1 * rate1) + ((break2 - break1) * rate2) + ((total_minutes - break2) * rate3)\n",
      "    \n",
      "    if cost > discount_threshold:\n",
      "        cost *= (1 - discount_rate)\n",
      "    \n",
      "    return cost\",\n",
      "    \"question\": \"You are planning to rent a bike from a rental shop. The shop charges at different rates based on how long you rent the bike. \n",
      "\n",
      "- For the first 30 minutes, the rate is $0.50 per minute.\n",
      "- From minute 31 to minute 60, the rate is $0.40 per minute.\n",
      "- For any additional minutes after 60, the rate is $0.30 per minute.\n",
      "\n",
      "The rental shop also offers a discount: if the total cost exceeds $25.00, they apply a 10% discount on the total cost. You decide to rent a bike for 90 minutes. How much will it cost you in total dollars?\",\n",
      "    \"IC\": \"\",\n",
      "    \"analysis\": \"<ANALYSIS>Semantic Alignment Check\n",
      " - The function involves conditions based on the usage time, which is correctly mapped in the problem statement.\n",
      " - Addition is correctly used to sum costs of different time intervals.\n",
      " - Multiplication is used to calculate each cost segment correctly by scaling the rate with the minutes.\n",
      " - The discount is correctly applied after calculating the total cost; this matches a multiplication operation to reduce cost.\n",
      "\n",
      "Operator Justification\n",
      " - Each operation in the function corresponds to a specific step in calculating the cost based on time, and applying a discount if necessary.\n",
      "\n",
      "Contextual Consistency Check\n",
      " - The narrative of incrementally calculating segment costs and applying a discount threshold aligns seamlessly with the function structure.\n",
      "\n",
      "Clues and Discrepancies\n",
      " - The problem gives explicit rates and time breaks for usage, precisely matching the function's conditions.\n",
      "\n",
      "Final Validation\n",
      " - Since all operations in the problem are backed by the conditions and calculations needed, the problem is marked as VALID.</ANALYSIS>\",\n",
      "    \"valid\": true\n",
      "}\n"
     ]
    }
   ],
   "source": [
    "print(gsm)"
   ]
  },
  {
   "cell_type": "code",
   "execution_count": null,
   "id": "89dff97c-dd6f-4794-a18e-73c5a8cd6f8b",
   "metadata": {},
   "outputs": [],
   "source": []
  },
  {
   "cell_type": "code",
   "execution_count": null,
   "id": "b61d871b-0029-4f67-85fc-866c6c11d944",
   "metadata": {},
   "outputs": [],
   "source": []
  },
  {
   "cell_type": "code",
   "execution_count": 24,
   "id": "f852a45e-8c26-42f6-a6a5-0fadd1984404",
   "metadata": {},
   "outputs": [
    {
     "name": "stdout",
     "output_type": "stream",
     "text": [
      "<GSM>Problem 1: Sarah runs a tutoring service where she charges according to the number of minutes of tutoring provided. For the first 30 minutes, she charges $0.50 per minute. After the first 30 minutes and up to 60 minutes, she charges $0.70 per minute. For any time beyond 60 minutes, she charges $0.90 per minute. If the total charged before any discount exceeds $40, she offers a discount of 10%. One day, Sarah provided tutoring for a total of 75 minutes. Calculate the total cost for this session after applying any applicable discount. Express your answer in dollars.</GSM>\n",
      "\n",
      "<ANALYSIS>\n",
      "6.1.1) The problem context specifies different rates for different intervals of time, corresponding to the conditions in the function.\n",
      "6.1.2) Addition is used to accumulate total cost from different time intervals, which makes sense as each interval adds to the total charge.\n",
      "6.1.3) No subtraction is used in this problem, aligning well with the context which does not involve any deductions other than the discount.\n",
      "6.1.4) Multiplication is used correctly to calculate the cost per interval of minutes.\n",
      "6.1.5) No division is used; division isn't required for any rate or average in this context.\n",
      "6.2) Addition is needed to combine costs from different time intervals, and multiplication is necessary to compute them. The discount is applied correctly by multiplying with (1 - discount_rate).\n",
      "6.3) All operations and constants align with real-world actions such as rate changes and discounts.\n",
      "6.4.1) The narrative provides a structured breakdown of costs based on time, matching the sequential conditions in the function.\n",
      "6.4.2) There are no discrepancies between the function's operations and the problem narrative.\n",
      "6.6.1) VALID: Every function operation matches the context provided.\n",
      "</ANALYSIS>\n",
      "\n",
      "\n",
      "<GSM>Problem 2: Greg owns a kiosk at a mall where he offers game console sessions for people to play. He charges $0.20 per minute for the first 15 minutes, $0.35 per minute for the next 30 minutes, and $0.50 per minute for any additional time. On a busy Saturday, Greg had a customer who played for 55 minutes. If the total cost of a session exceeds $15, Greg provides a 5% discount. Additionally, during the same day, Greg noted that 20 people visited his kiosk and there was a sale on headphones which had a 20% discount, but these details are unrelated to the task. Calculate the total cost for the 55-minute session after any applicable discount, in dollars.</GSM>\n",
      "\n",
      "<NOISE>During the same day, Greg noted that 20 people visited his kiosk and there was a sale on headphones which had a 20% discount, but these details are unrelated to the task.</NOISE>\n",
      "\n",
      "<ANALYSIS>\n",
      "6.1.1) The problem is clear in mapping different pricing brackets to different durations, akin to the function's structure.\n",
      "6.1.2) Addition combines costs from multiple segments, and multiplication computes the segment costs accurately.\n",
      "6.1.3) Subtraction isn't used, fitting since the problem only removes costs via a percentage discount.\n",
      "6.1.4) Multiplication is properly applied to calculate costs for each period of minutes used, preparing for the addition of total costs.\n",
      "6.1.5) Division isn’t necessary given the context.\n",
      "6.2) Multiplication and addition are justified by using multiple price rates over accumulated periods, and the discount applies through multiplication by a percentage.\n",
      "6.3) The variables, conditions, and constants match true scenarios involving client charges and discount thresholds.\n",
      "6.4.1) The problem instructs step-by-step processing of durations, matching the decision-making branches in the function.\n",
      "6.4.2) There are no inconsistencies or narrative mismatches with the function logic.\n",
      "6.6.1) VALID: The problem narrative aligns and represents the function's logic exactly.\n",
      "</ANALYSIS>\n"
     ]
    }
   ],
   "source": [
    "print(gsm.content)"
   ]
  },
  {
   "cell_type": "markdown",
   "id": "fa15785b-be6c-4200-a6ed-9ac2e715a77c",
   "metadata": {},
   "source": [
    "ok let's put one of the answers into our decoder\n",
    "==="
   ]
  },
  {
   "cell_type": "code",
   "execution_count": 41,
   "id": "9ab0ce96-6626-4e97-b612-bbccc5e5b96c",
   "metadata": {},
   "outputs": [],
   "source": [
    "gsm2b='''Greg owns a kiosk at a mall where he offers game console sessions for people to play. \n",
    "He charges $0.20 per minute for the first 15 minutes, $0.35 per minute for the next 30 minutes, \n",
    "and $0.50 per minute for any additional time. On a busy Saturday, Greg had a customer who played for 55 minutes. \n",
    "If the total cost of a session exceeds $15, Greg provides a 5% discount. \n",
    "Additionally, during the same day, Greg noted that 20 people visited his kiosk and there was a sale on headphones \n",
    "which had a 20% discount, but these details are unrelated to the task. \n",
    "Calculate the total cost for the 55-minute session after any applicable discount, in dollars.'''\n",
    "\n",
    "\n"
   ]
  },
  {
   "cell_type": "code",
   "execution_count": 91,
   "id": "0e5d16cd-faed-4470-b37b-74f57af8445f",
   "metadata": {},
   "outputs": [],
   "source": [
    "#gsm2b=\"Jessica is planning to plant some new flowers in her garden. She's browsing through a catalog that lists prices for multiple bulk purchases. The first set of up to 10 seeds costs $0.60 per seed. If she buys between 11 to 25 seeds, the cost drops to $0.50 per seed for each additional seed beyond 10. For any seeds over 25, the cost goes down further to $0.30 per seed. If the total cost of her seed purchase surpasses $10, she gets a 25% discount on the total cost. Meanwhile, as she was looking through the catalog, she noticed there were also discounts on gardening tools and fertilizers, but those do not apply to her seed purchase. Calculate her total cost (in dollars) for buying 28 seeds.\"\n",
    "# gsm2b='''A new small bakery chain calculates special delivery service fees based on delivery time. The rates are structured as follows:\n",
    "\n",
    "# - The first 60 minutes cost $10 per minute.\n",
    "# - The following 30 minutes cost $12 per minute.\n",
    "# - Any time thereafter costs $15 per minute.\n",
    "\n",
    "# If a delivery exceeds the cost threshold of $900, a 15% discount is offered on the total fee.\n",
    "\n",
    "# On a particularly eventful day, the bakery made deliveries spanning 120 minutes. Calculate the bakery's total fee for this service.\n",
    "\n",
    "# (Note: The bakery also received an order that was canceled after preparation, which would have taken an additional 45 minutes).\n",
    "\n",
    "# What is the total delivery fee (in dollars) in this case?'''"
   ]
  },
  {
   "cell_type": "code",
   "execution_count": 19,
   "id": "6e2dfabe-c8a1-4ce1-8e47-27e7610cdf44",
   "metadata": {},
   "outputs": [],
   "source": [
    "# gsm2b='''\n",
    "# Maria is a long-distance runner who participates in running sessions with varying speeds based on her location. For her morning session, she has a path divided into three segments. In the first segment, she runs at a speed of 4 meters per minute for the first 20 minutes. Once she passes the 20-minute mark, her speed changes to 5 meters per minute until she reaches the 40-minute mark, which marks the end of the second segment. Finally, in the third segment beyond 40 minutes, she speeds up to 6 meters per minute.\n",
    "\n",
    "# Maria plans to run for a total of 45 minutes today. However, she has a joint discount offer with the gym where if her calculated total distance exceeds 220 meters, she gets a 10% reduction in her monthly membership fee. Help Maria calculate her potentially discounted monthly membership fee assuming her regular monthly fee is $400.\n",
    "\n",
    "# 1. Determine the distance Maria covers in each segment.\n",
    "# 2. Calculate the total distance.\n",
    "# 3. Apply the discount rule to find out her final monthly fee.\n",
    "\n",
    "# What will Maria's final monthly fee be?\n",
    "# '''"
   ]
  },
  {
   "cell_type": "code",
   "execution_count": 61,
   "id": "c5175bc2-a1de-44ce-b523-f81450d0629c",
   "metadata": {},
   "outputs": [],
   "source": [
    "res=m.dec(gsm2b,mod=mod)"
   ]
  },
  {
   "cell_type": "markdown",
   "id": "ddc420eb-016d-4e0d-8bac-a390c29469b3",
   "metadata": {},
   "source": [
    "here is the answer with noise nicely left out\n",
    "==="
   ]
  },
  {
   "cell_type": "code",
   "execution_count": 62,
   "id": "b49dca50-6266-4e3f-9ca1-9f7284d580b7",
   "metadata": {},
   "outputs": [
    {
     "name": "stdout",
     "output_type": "stream",
     "text": [
      "To solve the problem, we will calculate the cost of the 55-minute session based on the given pricing structure and apply any discounts if necessary. Here are the steps broken down:\n",
      "\n",
      "1. **Pricing Structure**:\n",
      "   - First 15 minutes: $0.20 per minute.\n",
      "   - Next 30 minutes: $0.35 per minute.\n",
      "   - Additional time beyond the first 45 minutes: $0.50 per minute.\n",
      "\n",
      "2. **Calculate Session Cost**:\n",
      "   - Calculate cost for the first 15 minutes.\n",
      "   - Calculate cost for the next 30 minutes.\n",
      "   - Calculate cost for the remaining 10 minutes (since the total session is 55 minutes).\n",
      "\n",
      "3. **Discount**:\n",
      "   - Check if the total cost exceeds $15.\n",
      "   - If it does, apply a 5% discount.\n",
      "\n",
      "4. **Extraneous Information**:\n",
      "   - The information about the number of people visiting the kiosk, the sale on headphones, and any non-calculation related context are irrelevant to the solution of this problem.\n",
      "\n",
      "Now, let's put this into a function:\n",
      "\n",
      "```python\n",
      "def sol(total_minutes, first_rate, first_duration, second_rate, second_duration, additional_rate, discount_threshold, discount_rate):\n",
      "    # Cost calculations\n",
      "    if total_minutes <= first_duration:\n",
      "        cost = total_minutes * first_rate\n",
      "    elif total_minutes <= first_duration + second_duration:\n",
      "        cost = (first_duration * first_rate) + (total_minutes - first_duration) * second_rate\n",
      "    else:\n",
      "        cost = (first_duration * first_rate) + \\\n",
      "               (second_duration * second_rate) + \\\n",
      "               (total_minutes - first_duration - second_duration) * additional_rate\n",
      "\n",
      "    # Apply discount if applicable\n",
      "    if cost > discount_threshold:\n",
      "        cost -= cost * discount_rate / 100\n",
      "\n",
      "    return cost\n",
      "\n",
      "# Example of using the function for the specific problem\n",
      "total_minutes = 55\n",
      "first_rate = 0.20\n",
      "first_duration = 15\n",
      "second_rate = 0.35\n",
      "second_duration = 30\n",
      "additional_rate = 0.50\n",
      "discount_threshold = 15\n",
      "discount_rate = 5\n",
      "\n",
      "final_cost = sol(total_minutes, first_rate, first_duration, second_rate, second_duration, additional_rate, discount_threshold, discount_rate)\n",
      "```\n",
      "\n",
      "**Explain the Logic:**\n",
      "\n",
      "- **Step 1**: Determine the cost for each segment of the time played:\n",
      "  - For the first 15 minutes: \\( 15 \\times 0.20 \\)\n",
      "  - For the next 30 minutes: \\( 30 \\times 0.35 \\)\n",
      "  - For any additional minutes beyond 45: \\( (55 - 45) \\times 0.50 = 10 \\times 0.50 \\)\n",
      "  \n",
      "- **Step 2**: Calculate the total cost before any discount.\n",
      "- **Step 3**: If the total cost is greater than $15, apply a 5% discount.\n",
      "  \n",
      "**Final Conclusion**:\n",
      "\n",
      "- The function `sol` calculates the total cost based on the problem's pricing structure and applies the discount logic if applicable.\n",
      "- The extraneous information were placed [NOISE]20 people visited[/NOISE] and [NOISE]sale on headphones with a 20% discount[/NOISE].\n",
      "- This approach efficiently utilizes parameterized variables for the pricing and discount details, adhering to directives 0.4 and 0.5 by ensuring function flexibility.\n"
     ]
    }
   ],
   "source": [
    "print(res['A1'])"
   ]
  },
  {
   "cell_type": "code",
   "execution_count": 63,
   "id": "082400d1-3355-401f-bfa3-75826828d6a3",
   "metadata": {},
   "outputs": [
    {
     "name": "stdout",
     "output_type": "stream",
     "text": [
      "To determine if `sol` is functionally equivalent to `mod`, we must first identify the mapping between the function arguments and ensure that the calculations are analogous given this mapping.\n",
      "\n",
      "Here's the mapping for the arguments:\n",
      "- \\( \\text{rate1} \\equiv \\text{first_rate} \\)\n",
      "- \\( \\text{break1} \\equiv \\text{first_duration} \\)\n",
      "- \\( \\text{rate2} \\equiv \\text{second_rate} \\)\n",
      "- \\( \\text{break2} \\equiv \\text{first_duration} + \\text{second_duration} \\)\n",
      "- \\( \\text{rate3} \\equiv \\text{additional_rate} \\)\n",
      "\n",
      "Both functions take `total_minutes`, `discount_threshold`, and `discount_rate` as equivalent.\n",
      "\n",
      "### Unit Tests\n",
      "\n",
      "We will write three-unit tests to confirm that both functions yield the same results for a range of scenarios.\n",
      "\n",
      "```python\n",
      "def test_equivalence():\n",
      "    # Test 1: Within the first rate\n",
      "    total_minutes = 10\n",
      "    first_rate = 0.20\n",
      "    first_duration = 15\n",
      "    second_rate = 0.35\n",
      "    second_duration = 30\n",
      "    additional_rate = 0.50\n",
      "    discount_threshold = 15\n",
      "    discount_rate = 0.05\n",
      "\n",
      "    result_sol = sol(\n",
      "        total_minutes=total_minutes,\n",
      "        first_rate=first_rate,\n",
      "        first_duration=first_duration,\n",
      "        second_rate=second_rate,\n",
      "        second_duration=second_duration,\n",
      "        additional_rate=additional_rate,\n",
      "        discount_threshold=discount_threshold,\n",
      "        discount_rate=100 * discount_rate\n",
      "    )\n",
      "\n",
      "    result_mod = mod(\n",
      "        total_minutes=total_minutes,\n",
      "        rate1=first_rate,\n",
      "        break1=first_duration,\n",
      "        rate2=second_rate,\n",
      "        break2=first_duration + second_duration,\n",
      "        rate3=additional_rate,\n",
      "        discount_threshold=discount_threshold,\n",
      "        discount_rate=discount_rate\n",
      "    )\n",
      "\n",
      "    assert result_sol == result_mod, f\"Test 1 failed: {result_sol} != {result_mod}\"\n",
      "\n",
      "    # Test 2: Spanning first and second rates\n",
      "    total_minutes = 40\n",
      "\n",
      "    result_sol = sol(\n",
      "        total_minutes=total_minutes,\n",
      "        first_rate=first_rate,\n",
      "        first_duration=first_duration,\n",
      "        second_rate=second_rate,\n",
      "        second_duration=second_duration,\n",
      "        additional_rate=additional_rate,\n",
      "        discount_threshold=discount_threshold,\n",
      "        discount_rate=100 * discount_rate\n",
      "    )\n",
      "\n",
      "    result_mod = mod(\n",
      "        total_minutes=total_minutes,\n",
      "        rate1=first_rate,\n",
      "        break1=first_duration,\n",
      "        rate2=second_rate,\n",
      "        break2=first_duration + second_duration,\n",
      "        rate3=additional_rate,\n",
      "        discount_threshold=discount_threshold,\n",
      "        discount_rate=discount_rate\n",
      "    )\n",
      "\n",
      "    assert result_sol == result_mod, f\"Test 2 failed: {result_sol} != {result_mod}\"\n",
      "\n",
      "    # Test 3: Using all rates and applying discount\n",
      "    total_minutes = 55\n",
      "\n",
      "    result_sol = sol(\n",
      "        total_minutes=total_minutes,\n",
      "        first_rate=first_rate,\n",
      "        first_duration=first_duration,\n",
      "        second_rate=second_rate,\n",
      "        second_duration=second_duration,\n",
      "        additional_rate=additional_rate,\n",
      "        discount_threshold=discount_threshold,\n",
      "        discount_rate=100 * discount_rate\n",
      "    )\n",
      "\n",
      "    result_mod = mod(\n",
      "        total_minutes=total_minutes,\n",
      "        rate1=first_rate,\n",
      "        break1=first_duration,\n",
      "        rate2=second_rate,\n",
      "        break2=first_duration + second_duration,\n",
      "        rate3=additional_rate,\n",
      "        discount_threshold=discount_threshold,\n",
      "        discount_rate=discount_rate\n",
      "    )\n",
      "\n",
      "    assert result_sol == result_mod, f\"Test 3 failed: {result_sol} != {result_mod}\"\n",
      "\n",
      "test_equivalence()\n",
      "```\n",
      "\n",
      "### Explanation\n",
      "\n",
      "1. **Test 1** checks a scenario where only the first rate applies, ensuring basic calculation correctness.\n",
      "2. **Test 2** includes both the first and second rates to verify correct segment handling.\n",
      "3. **Test 3** evaluates all rates, especially testing the logic around handling excess time beyond 45 minutes and applying a discount since the total cost might exceed the threshold.\n",
      "\n",
      "These tests assess both functions' responses to various scenarios, confirming they are functionally equivalent given the specified input mappings. \n",
      "\n",
      "**Note**: The `discount_rate` in `sol` was designed to expect a percentage correctly corresponding to `mod`, which applies the discount directly in the operation (hence the absence of the division by 100 in `mod`).\n"
     ]
    }
   ],
   "source": [
    "print(res['A2'])"
   ]
  },
  {
   "cell_type": "code",
   "execution_count": 70,
   "id": "3a317954-226c-4e95-8eb0-fb141cea5f41",
   "metadata": {},
   "outputs": [],
   "source": [
    "def sol(total_minutes, first_rate, first_duration, second_rate, second_duration, additional_rate, discount_threshold, discount_rate):\n",
    "    # Cost calculations\n",
    "    if total_minutes <= first_duration:\n",
    "        cost = total_minutes * first_rate\n",
    "    elif total_minutes <= first_duration + second_duration:\n",
    "        cost = (first_duration * first_rate) + (total_minutes - first_duration) * second_rate\n",
    "    else:\n",
    "        cost = (first_duration * first_rate) + \\\n",
    "               (second_duration * second_rate) + \\\n",
    "               (total_minutes - first_duration - second_duration) * additional_rate\n",
    "\n",
    "    # Apply discount if applicable\n",
    "    if cost > discount_threshold:\n",
    "        cost -= cost * discount_rate / 100\n",
    "\n",
    "    return cost\n",
    "    \n",
    "def test_equivalence():\n",
    "    # Test 1: Within the first rate\n",
    "    total_minutes = 10\n",
    "    first_rate = 0.20\n",
    "    first_duration = 15\n",
    "    second_rate = 0.35\n",
    "    second_duration = 30\n",
    "    additional_rate = 0.50\n",
    "    discount_threshold = 15\n",
    "    discount_rate = 0.05\n",
    "\n",
    "    result_sol = sol(\n",
    "        total_minutes=total_minutes,\n",
    "        first_rate=first_rate,\n",
    "        first_duration=first_duration,\n",
    "        second_rate=second_rate,\n",
    "        second_duration=second_duration,\n",
    "        additional_rate=additional_rate,\n",
    "        discount_threshold=discount_threshold,\n",
    "        discount_rate=100 * discount_rate\n",
    "    )\n",
    "\n",
    "    result_mod = mod(\n",
    "        total_minutes=total_minutes,\n",
    "        rate1=first_rate,\n",
    "        break1=first_duration,\n",
    "        rate2=second_rate,\n",
    "        break2=first_duration + second_duration,\n",
    "        rate3=additional_rate,\n",
    "        discount_threshold=discount_threshold,\n",
    "        discount_rate=discount_rate\n",
    "    )\n",
    "\n",
    "    assert result_sol == result_mod, f\"Test 1 failed: {result_sol} != {result_mod}\"\n",
    "\n",
    "    # Test 2: Spanning first and second rates\n",
    "    total_minutes = 40\n",
    "\n",
    "    result_sol = sol(\n",
    "        total_minutes=total_minutes,\n",
    "        first_rate=first_rate,\n",
    "        first_duration=first_duration,\n",
    "        second_rate=second_rate,\n",
    "        second_duration=second_duration,\n",
    "        additional_rate=additional_rate,\n",
    "        discount_threshold=discount_threshold,\n",
    "        discount_rate=100 * discount_rate\n",
    "    )\n",
    "\n",
    "    result_mod = mod(\n",
    "        total_minutes=total_minutes,\n",
    "        rate1=first_rate,\n",
    "        break1=first_duration,\n",
    "        rate2=second_rate,\n",
    "        break2=first_duration + second_duration,\n",
    "        rate3=additional_rate,\n",
    "        discount_threshold=discount_threshold,\n",
    "        discount_rate=discount_rate\n",
    "    )\n",
    "\n",
    "    assert result_sol == result_mod, f\"Test 2 failed: {result_sol} != {result_mod}\"\n",
    "\n",
    "    # Test 3: Using all rates and applying discount\n",
    "    total_minutes = 55\n",
    "\n",
    "    result_sol = sol(\n",
    "        total_minutes=total_minutes,\n",
    "        first_rate=first_rate,\n",
    "        first_duration=first_duration,\n",
    "        second_rate=second_rate,\n",
    "        second_duration=second_duration,\n",
    "        additional_rate=additional_rate,\n",
    "        discount_threshold=discount_threshold,\n",
    "        discount_rate=100 * discount_rate\n",
    "    )\n",
    "\n",
    "    result_mod = mod(\n",
    "        total_minutes=total_minutes,\n",
    "        rate1=first_rate,\n",
    "        break1=first_duration,\n",
    "        rate2=second_rate,\n",
    "        break2=first_duration + second_duration,\n",
    "        rate3=additional_rate,\n",
    "        discount_threshold=discount_threshold,\n",
    "        discount_rate=discount_rate\n",
    "    )\n",
    "\n",
    "    assert result_sol == result_mod, f\"Test 3 failed: {result_sol} != {result_mod}\"\n",
    "\n",
    "test_equivalence()"
   ]
  },
  {
   "cell_type": "code",
   "execution_count": null,
   "id": "0173d30d-3339-4ca5-8477-328ecadc3b3d",
   "metadata": {},
   "outputs": [],
   "source": []
  },
  {
   "cell_type": "code",
   "execution_count": null,
   "id": "c3067a90-741b-487f-8207-dd18d3450fc1",
   "metadata": {},
   "outputs": [],
   "source": []
  }
 ],
 "metadata": {
  "kernelspec": {
   "display_name": "Python 3 (ipykernel)",
   "language": "python",
   "name": "python3"
  },
  "language_info": {
   "codemirror_mode": {
    "name": "ipython",
    "version": 3
   },
   "file_extension": ".py",
   "mimetype": "text/x-python",
   "name": "python",
   "nbconvert_exporter": "python",
   "pygments_lexer": "ipython3",
   "version": "3.12.6"
  }
 },
 "nbformat": 4,
 "nbformat_minor": 5
}
